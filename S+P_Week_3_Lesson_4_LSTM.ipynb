{
 "cells": [
  {
   "cell_type": "code",
   "execution_count": 1,
   "metadata": {
    "id": "zX4Kg8DUTKWO"
   },
   "outputs": [],
   "source": [
    "#@title Licensed under the Apache License, Version 2.0 (the \"License\");\n",
    "# you may not use this file except in compliance with the License.\n",
    "# You may obtain a copy of the License at\n",
    "#\n",
    "# https://www.apache.org/licenses/LICENSE-2.0\n",
    "#\n",
    "# Unless required by applicable law or agreed to in writing, software\n",
    "# distributed under the License is distributed on an \"AS IS\" BASIS,\n",
    "# WITHOUT WARRANTIES OR CONDITIONS OF ANY KIND, either express or implied.\n",
    "# See the License for the specific language governing permissions and\n",
    "# limitations under the License."
   ]
  },
  {
   "cell_type": "markdown",
   "metadata": {},
   "source": [
    "Batch sizing reference link - https://www.youtube.com/watch?v=4qJaSmvhxi8"
   ]
  },
  {
   "cell_type": "code",
   "execution_count": 2,
   "metadata": {
    "id": "D1J15Vh_1Jih"
   },
   "outputs": [
    {
     "name": "stderr",
     "output_type": "stream",
     "text": [
      "ERROR: Could not find a version that satisfies the requirement tf-nightly-2.0-preview (from versions: none)\n",
      "ERROR: No matching distribution found for tf-nightly-2.0-preview\n",
      "WARNING: You are using pip version 20.1.1; however, version 20.2.4 is available.\n",
      "You should consider upgrading via the 'd:\\python37\\python.exe -m pip install --upgrade pip' command.\n"
     ]
    }
   ],
   "source": [
    "!pip install tf-nightly-2.0-preview\n"
   ]
  },
  {
   "cell_type": "code",
   "execution_count": 3,
   "metadata": {
    "colab": {
     "base_uri": "https://localhost:8080/",
     "height": 35
    },
    "id": "BOjujz601HcS",
    "outputId": "aa0651c4-b24e-4e1e-936c-e31004fa751b"
   },
   "outputs": [
    {
     "name": "stdout",
     "output_type": "stream",
     "text": [
      "2.4.0-dev20200925\n"
     ]
    }
   ],
   "source": [
    "import tensorflow as tf\n",
    "import numpy as np\n",
    "import matplotlib.pyplot as plt\n",
    "print(tf.__version__)"
   ]
  },
  {
   "cell_type": "code",
   "execution_count": 4,
   "metadata": {
    "id": "Zswl7jRtGzkk"
   },
   "outputs": [],
   "source": [
    "def plot_series(time, series, format=\"-\", start=0, end=None):\n",
    "    plt.plot(time[start:end], series[start:end], format)\n",
    "    plt.xlabel(\"Time\")\n",
    "    plt.ylabel(\"Value\")\n",
    "    plt.grid(True)\n",
    "\n",
    "def trend(time, slope=0):\n",
    "    return slope * time\n",
    "\n",
    "def seasonal_pattern(season_time):\n",
    "    \"\"\"Just an arbitrary pattern, you can change it if you wish\"\"\"\n",
    "    return np.where(season_time < 0.4,\n",
    "                    np.cos(season_time * 2 * np.pi),\n",
    "                    1 / np.exp(3 * season_time))\n",
    "\n",
    "def seasonality(time, period, amplitude=1, phase=0):\n",
    "    \"\"\"Repeats the same pattern at each period\"\"\"\n",
    "    season_time = ((time + phase) % period) / period\n",
    "    return amplitude * seasonal_pattern(season_time)\n",
    "\n",
    "def noise(time, noise_level=1, seed=None):\n",
    "    rnd = np.random.RandomState(seed)\n",
    "    return rnd.randn(len(time)) * noise_level\n",
    "\n",
    "time = np.arange(4 * 365 + 1, dtype=\"float32\")\n",
    "baseline = 10\n",
    "series = trend(time, 0.1)  \n",
    "baseline = 10\n",
    "amplitude = 40\n",
    "slope = 0.05\n",
    "noise_level = 5\n",
    "\n",
    "# Create the series\n",
    "series = baseline + trend(time, slope) + seasonality(time, period=365, amplitude=amplitude)\n",
    "# Update with noise\n",
    "series += noise(time, noise_level, seed=42)\n",
    "\n",
    "split_time = 1000\n",
    "time_train = time[:split_time]\n",
    "x_train = series[:split_time]\n",
    "time_valid = time[split_time:]\n",
    "x_valid = series[split_time:]\n",
    "\n",
    "window_size = 20\n",
    "batch_size = 32\n",
    "shuffle_buffer_size = 1000"
   ]
  },
  {
   "cell_type": "code",
   "execution_count": 5,
   "metadata": {
    "id": "4sTTIOCbyShY"
   },
   "outputs": [],
   "source": [
    "def windowed_dataset(series, window_size, batch_size, shuffle_buffer):\n",
    "  dataset = tf.data.Dataset.from_tensor_slices(series)\n",
    "  dataset = dataset.window(window_size + 1, shift=1, drop_remainder=True)\n",
    "  dataset = dataset.flat_map(lambda window: window.batch(window_size + 1))\n",
    "  dataset = dataset.shuffle(shuffle_buffer).map(lambda window: (window[:-1], window[-1]))\n",
    "  dataset = dataset.batch(batch_size).prefetch(1)\n",
    "  return dataset"
   ]
  },
  {
   "cell_type": "code",
   "execution_count": 6,
   "metadata": {
    "colab": {
     "base_uri": "https://localhost:8080/",
     "height": 1000
    },
    "id": "A1Hl39rklkLm",
    "outputId": "75cbaf63-f635-4dd1-96fd-b4e1d6fd94bb"
   },
   "outputs": [
    {
     "name": "stdout",
     "output_type": "stream",
     "text": [
      "Epoch 1/100\n",
      "31/31 [==============================] - 5s 15ms/step - loss: 21.9679 - mae: 22.4630\n",
      "Epoch 2/100\n",
      "31/31 [==============================] - 0s 13ms/step - loss: 21.0787 - mae: 21.5699\n",
      "Epoch 3/100\n",
      "31/31 [==============================] - 0s 14ms/step - loss: 19.9720 - mae: 20.4666\n",
      "Epoch 4/100\n",
      "31/31 [==============================] - 0s 13ms/step - loss: 20.5891 - mae: 21.0813\n",
      "Epoch 5/100\n",
      "31/31 [==============================] - 0s 14ms/step - loss: 20.2777 - mae: 20.7735\n",
      "Epoch 6/100\n",
      "31/31 [==============================] - 0s 14ms/step - loss: 19.6437 - mae: 20.1366\n",
      "Epoch 7/100\n",
      "31/31 [==============================] - 0s 14ms/step - loss: 18.2940 - mae: 18.7848\n",
      "Epoch 8/100\n",
      "31/31 [==============================] - 0s 14ms/step - loss: 17.2657 - mae: 17.7576\n",
      "Epoch 9/100\n",
      "31/31 [==============================] - 0s 14ms/step - loss: 17.4906 - mae: 17.9840\n",
      "Epoch 10/100\n",
      "31/31 [==============================] - 0s 14ms/step - loss: 16.8689 - mae: 17.3590\n",
      "Epoch 11/100\n",
      "31/31 [==============================] - 0s 14ms/step - loss: 16.4565 - mae: 16.9496\n",
      "Epoch 12/100\n",
      "31/31 [==============================] - 0s 14ms/step - loss: 16.1107 - mae: 16.6051\n",
      "Epoch 13/100\n",
      "31/31 [==============================] - 0s 14ms/step - loss: 15.9437 - mae: 16.4400\n",
      "Epoch 14/100\n",
      "31/31 [==============================] - 0s 14ms/step - loss: 16.2057 - mae: 16.7015\n",
      "Epoch 15/100\n",
      "31/31 [==============================] - 0s 14ms/step - loss: 16.2997 - mae: 16.7944: 0s - loss: 17.4399 - mae: 17\n",
      "Epoch 16/100\n",
      "31/31 [==============================] - 0s 14ms/step - loss: 15.2008 - mae: 15.6952\n",
      "Epoch 17/100\n",
      "31/31 [==============================] - 0s 14ms/step - loss: 14.6605 - mae: 15.1572\n",
      "Epoch 18/100\n",
      "31/31 [==============================] - 0s 14ms/step - loss: 14.7761 - mae: 15.2720\n",
      "Epoch 19/100\n",
      "31/31 [==============================] - 0s 14ms/step - loss: 14.4512 - mae: 14.9444\n",
      "Epoch 20/100\n",
      "31/31 [==============================] - 0s 15ms/step - loss: 14.5195 - mae: 15.0117\n",
      "Epoch 21/100\n",
      "31/31 [==============================] - 0s 14ms/step - loss: 13.5757 - mae: 14.0695\n",
      "Epoch 22/100\n",
      "31/31 [==============================] - 0s 14ms/step - loss: 13.5288 - mae: 14.0247\n",
      "Epoch 23/100\n",
      "31/31 [==============================] - 1s 15ms/step - loss: 12.7991 - mae: 13.2927\n",
      "Epoch 24/100\n",
      "31/31 [==============================] - 1s 15ms/step - loss: 12.9368 - mae: 13.4304\n",
      "Epoch 25/100\n",
      "31/31 [==============================] - 1s 15ms/step - loss: 13.4398 - mae: 13.9332\n",
      "Epoch 26/100\n",
      "31/31 [==============================] - 1s 15ms/step - loss: 12.5766 - mae: 13.0663\n",
      "Epoch 27/100\n",
      "31/31 [==============================] - 1s 15ms/step - loss: 12.4469 - mae: 12.9387\n",
      "Epoch 28/100\n",
      "31/31 [==============================] - 1s 16ms/step - loss: 12.0455 - mae: 12.5353\n",
      "Epoch 29/100\n",
      "31/31 [==============================] - 1s 16ms/step - loss: 11.7434 - mae: 12.2307\n",
      "Epoch 30/100\n",
      "31/31 [==============================] - 1s 19ms/step - loss: 12.1353 - mae: 12.6266\n",
      "Epoch 31/100\n",
      "31/31 [==============================] - 1s 16ms/step - loss: 10.5933 - mae: 11.0832\n",
      "Epoch 32/100\n",
      "31/31 [==============================] - 1s 17ms/step - loss: 11.3526 - mae: 11.8427\n",
      "Epoch 33/100\n",
      "31/31 [==============================] - 1s 16ms/step - loss: 10.6145 - mae: 11.1091\n",
      "Epoch 34/100\n",
      "31/31 [==============================] - 1s 16ms/step - loss: 10.3739 - mae: 10.8630\n",
      "Epoch 35/100\n",
      "31/31 [==============================] - 1s 15ms/step - loss: 10.0662 - mae: 10.5480\n",
      "Epoch 36/100\n",
      "31/31 [==============================] - 1s 15ms/step - loss: 9.5838 - mae: 10.0753\n",
      "Epoch 37/100\n",
      "31/31 [==============================] - 1s 15ms/step - loss: 9.0474 - mae: 9.5353\n",
      "Epoch 38/100\n",
      "31/31 [==============================] - 0s 14ms/step - loss: 9.8221 - mae: 10.3106\n",
      "Epoch 39/100\n",
      "31/31 [==============================] - 1s 16ms/step - loss: 9.1602 - mae: 9.6415\n",
      "Epoch 40/100\n",
      "31/31 [==============================] - 0s 14ms/step - loss: 8.2655 - mae: 8.7540\n",
      "Epoch 41/100\n",
      "31/31 [==============================] - 0s 15ms/step - loss: 8.5269 - mae: 9.0134\n",
      "Epoch 42/100\n",
      "31/31 [==============================] - 0s 14ms/step - loss: 7.8062 - mae: 8.2874\n",
      "Epoch 43/100\n",
      "31/31 [==============================] - 0s 14ms/step - loss: 7.5035 - mae: 7.9855\n",
      "Epoch 44/100\n",
      "31/31 [==============================] - 0s 14ms/step - loss: 7.2314 - mae: 7.7148\n",
      "Epoch 45/100\n",
      "31/31 [==============================] - 0s 14ms/step - loss: 7.2980 - mae: 7.7885\n",
      "Epoch 46/100\n",
      "31/31 [==============================] - 0s 14ms/step - loss: 6.7689 - mae: 7.2526\n",
      "Epoch 47/100\n",
      "31/31 [==============================] - 1s 15ms/step - loss: 6.9105 - mae: 7.3944\n",
      "Epoch 48/100\n",
      "31/31 [==============================] - 0s 14ms/step - loss: 6.4384 - mae: 6.9183\n",
      "Epoch 49/100\n",
      "31/31 [==============================] - 0s 15ms/step - loss: 6.2303 - mae: 6.7073\n",
      "Epoch 50/100\n",
      "31/31 [==============================] - 1s 17ms/step - loss: 6.1444 - mae: 6.6217\n",
      "Epoch 51/100\n",
      "31/31 [==============================] - 1s 15ms/step - loss: 5.9871 - mae: 6.4637\n",
      "Epoch 52/100\n",
      "31/31 [==============================] - 1s 15ms/step - loss: 5.5480 - mae: 6.0299\n",
      "Epoch 53/100\n",
      "31/31 [==============================] - 0s 14ms/step - loss: 5.9466 - mae: 6.4307\n",
      "Epoch 54/100\n",
      "31/31 [==============================] - 1s 15ms/step - loss: 5.4796 - mae: 5.9561: 0s - loss: 5.4697 - mae: 5.946\n",
      "Epoch 55/100\n",
      "31/31 [==============================] - 0s 14ms/step - loss: 5.5453 - mae: 6.0160\n",
      "Epoch 56/100\n",
      "31/31 [==============================] - 1s 15ms/step - loss: 5.0841 - mae: 5.5574\n",
      "Epoch 57/100\n",
      "31/31 [==============================] - 0s 14ms/step - loss: 5.2539 - mae: 5.7336\n",
      "Epoch 58/100\n",
      "31/31 [==============================] - 1s 15ms/step - loss: 5.6475 - mae: 6.1325\n",
      "Epoch 59/100\n",
      "31/31 [==============================] - 1s 15ms/step - loss: 5.2887 - mae: 5.7695\n",
      "Epoch 60/100\n",
      "31/31 [==============================] - 1s 16ms/step - loss: 5.1467 - mae: 5.6155\n",
      "Epoch 61/100\n",
      "31/31 [==============================] - 1s 17ms/step - loss: 5.3017 - mae: 5.7800\n",
      "Epoch 62/100\n",
      "31/31 [==============================] - 1s 16ms/step - loss: 5.3386 - mae: 5.8202\n",
      "Epoch 63/100\n",
      "31/31 [==============================] - 1s 15ms/step - loss: 5.1146 - mae: 5.5934\n",
      "Epoch 64/100\n",
      "31/31 [==============================] - 0s 15ms/step - loss: 5.0240 - mae: 5.4962\n",
      "Epoch 65/100\n",
      "31/31 [==============================] - 1s 20ms/step - loss: 4.7313 - mae: 5.2082: 0s - loss: 4.6822 - mae: 5.15\n",
      "Epoch 66/100\n",
      "31/31 [==============================] - 1s 15ms/step - loss: 5.5177 - mae: 5.9981\n",
      "Epoch 67/100\n",
      "31/31 [==============================] - 0s 15ms/step - loss: 5.9259 - mae: 6.4100\n",
      "Epoch 68/100\n",
      "31/31 [==============================] - 1s 17ms/step - loss: 5.2524 - mae: 5.7297\n",
      "Epoch 69/100\n",
      "31/31 [==============================] - 1s 15ms/step - loss: 5.9142 - mae: 6.3963\n",
      "Epoch 70/100\n",
      "31/31 [==============================] - 1s 15ms/step - loss: 5.2131 - mae: 5.6896\n",
      "Epoch 71/100\n",
      "31/31 [==============================] - 0s 15ms/step - loss: 5.2288 - mae: 5.7112\n",
      "Epoch 72/100\n",
      "31/31 [==============================] - 0s 15ms/step - loss: 5.4463 - mae: 5.9252\n",
      "Epoch 73/100\n",
      "31/31 [==============================] - 1s 17ms/step - loss: 6.1776 - mae: 6.6608\n",
      "Epoch 74/100\n",
      "31/31 [==============================] - 1s 18ms/step - loss: 5.1897 - mae: 5.6700\n",
      "Epoch 75/100\n",
      "31/31 [==============================] - 1s 17ms/step - loss: 5.3538 - mae: 5.8311\n",
      "Epoch 76/100\n",
      "31/31 [==============================] - 1s 17ms/step - loss: 5.7333 - mae: 6.2183\n",
      "Epoch 77/100\n",
      "31/31 [==============================] - 1s 17ms/step - loss: 8.0481 - mae: 8.5378\n",
      "Epoch 78/100\n",
      "31/31 [==============================] - 1s 17ms/step - loss: 5.1544 - mae: 5.6363\n",
      "Epoch 79/100\n",
      "31/31 [==============================] - 1s 16ms/step - loss: 5.3399 - mae: 5.8206\n",
      "Epoch 80/100\n",
      "31/31 [==============================] - 1s 16ms/step - loss: 4.7007 - mae: 5.1860\n",
      "Epoch 81/100\n",
      "31/31 [==============================] - 1s 16ms/step - loss: 5.3701 - mae: 5.8488\n",
      "Epoch 82/100\n",
      "31/31 [==============================] - 1s 15ms/step - loss: 7.2454 - mae: 7.7325\n",
      "Epoch 83/100\n",
      "31/31 [==============================] - 1s 15ms/step - loss: 6.0928 - mae: 6.5755\n",
      "Epoch 84/100\n",
      "31/31 [==============================] - 1s 15ms/step - loss: 5.6396 - mae: 6.1238\n",
      "Epoch 85/100\n",
      "31/31 [==============================] - 1s 16ms/step - loss: 5.8248 - mae: 6.3099: 0s - loss: 5.6820 - mae: 6.\n",
      "Epoch 86/100\n",
      "31/31 [==============================] - 1s 17ms/step - loss: 7.3614 - mae: 7.8521\n",
      "Epoch 87/100\n",
      "31/31 [==============================] - 1s 16ms/step - loss: 7.5092 - mae: 7.9898\n",
      "Epoch 88/100\n",
      "31/31 [==============================] - 0s 15ms/step - loss: 5.7051 - mae: 6.1893\n",
      "Epoch 89/100\n",
      "31/31 [==============================] - 0s 15ms/step - loss: 5.5439 - mae: 6.0262\n",
      "Epoch 90/100\n",
      "31/31 [==============================] - 0s 15ms/step - loss: 7.5598 - mae: 8.0513\n",
      "Epoch 91/100\n",
      "31/31 [==============================] - 0s 14ms/step - loss: 7.8078 - mae: 8.2955: 0s - loss: 6.7903 - mae: \n",
      "Epoch 92/100\n",
      "31/31 [==============================] - 0s 15ms/step - loss: 6.3133 - mae: 6.7930\n",
      "Epoch 93/100\n",
      "31/31 [==============================] - 1s 15ms/step - loss: 8.8474 - mae: 9.3379\n",
      "Epoch 94/100\n",
      "31/31 [==============================] - 1s 15ms/step - loss: 9.2824 - mae: 9.7725\n",
      "Epoch 95/100\n",
      "31/31 [==============================] - 1s 15ms/step - loss: 9.3785 - mae: 9.8659\n",
      "Epoch 96/100\n",
      "31/31 [==============================] - 1s 15ms/step - loss: 14.3331 - mae: 14.8287\n",
      "Epoch 97/100\n",
      "31/31 [==============================] - 1s 15ms/step - loss: 13.6293 - mae: 14.1187\n",
      "Epoch 98/100\n",
      "31/31 [==============================] - 0s 15ms/step - loss: 10.9893 - mae: 11.4829\n",
      "Epoch 99/100\n",
      "31/31 [==============================] - 1s 15ms/step - loss: 10.2461 - mae: 10.7373\n",
      "Epoch 100/100\n",
      "31/31 [==============================] - 1s 15ms/step - loss: 15.6059 - mae: 16.1006: 0s - loss: 15.5893 - mae: 16.084\n"
     ]
    }
   ],
   "source": [
    "tf.keras.backend.clear_session()\n",
    "tf.random.set_seed(51)\n",
    "np.random.seed(51)\n",
    "\n",
    "tf.keras.backend.clear_session()\n",
    "dataset = windowed_dataset(x_train, window_size, batch_size, shuffle_buffer_size)\n",
    "\n",
    "model = tf.keras.models.Sequential([\n",
    "  tf.keras.layers.Lambda(lambda x: tf.expand_dims(x,axis=-1),\n",
    "                      input_shape=[None]),\n",
    "    tf.keras.layers.Bidirectional(tf.keras.layers.LSTM(32, return_sequences=True)),\n",
    "  tf.keras.layers.Bidirectional(tf.keras.layers.LSTM(32)),\n",
    "  tf.keras.layers.Dense(1),\n",
    "  tf.keras.layers.Lambda(lambda x: x * 100.0)\n",
    "])\n",
    "\n",
    "lr_schedule = tf.keras.callbacks.LearningRateScheduler(\n",
    "    lambda epoch: 1e-8 * 10**(epoch / 20))\n",
    "optimizer = tf.keras.optimizers.SGD(lr=1e-8, momentum=0.9)\n",
    "model.compile(loss=tf.keras.losses.Huber(),\n",
    "              optimizer=optimizer,\n",
    "              metrics=[\"mae\"])\n",
    "history = model.fit(dataset, epochs=100, callbacks=[lr_schedule])"
   ]
  },
  {
   "cell_type": "code",
   "execution_count": 7,
   "metadata": {
    "colab": {
     "base_uri": "https://localhost:8080/",
     "height": 291
    },
    "id": "AkBsrsXMzoWR",
    "outputId": "99a3f57b-9145-4802-8256-401a54b238e7"
   },
   "outputs": [
    {
     "data": {
      "text/plain": [
       "(1e-08, 0.0001, 0.0, 30.0)"
      ]
     },
     "execution_count": 7,
     "metadata": {},
     "output_type": "execute_result"
    },
    {
     "data": {
      "image/png": "[encoded data removed]",
      "text/plain": [
       "<Figure size 432x288 with 1 Axes>"
      ]
     },
     "metadata": {
      "needs_background": "light"
     },
     "output_type": "display_data"
    }
   ],
   "source": [
    "plt.semilogx(history.history[\"lr\"], history.history[\"loss\"])\n",
    "plt.axis([1e-8, 1e-4, 0, 30])"
   ]
  },
  {
   "cell_type": "code",
   "execution_count": 8,
   "metadata": {
    "id": "4uh-97bpLZCA"
   },
   "outputs": [],
   "source": [
    "tf.keras.backend.clear_session()\n",
    "tf.random.set_seed(51)\n",
    "np.random.seed(51)\n",
    "\n",
    "tf.keras.backend.clear_session()\n",
    "dataset = windowed_dataset(x_train, window_size, batch_size, shuffle_buffer_size)\n",
    "\n",
    "model = tf.keras.models.Sequential([\n",
    "  tf.keras.layers.Lambda(lambda x: tf.expand_dims(x, axis=-1),\n",
    "                      input_shape=[None]),\n",
    "   tf.keras.layers.Bidirectional(tf.keras.layers.LSTM(32, return_sequences=True)),\n",
    "  tf.keras.layers.Bidirectional(tf.keras.layers.LSTM(32)),\n",
    "  tf.keras.layers.Dense(1),\n",
    "  tf.keras.layers.Lambda(lambda x: x * 100.0)\n",
    "])\n",
    "\n",
    "\n",
    "model.compile(loss=\"mse\", optimizer=tf.keras.optimizers.SGD(lr=1e-5, momentum=0.9),metrics=[\"mae\"])\n",
    "history = model.fit(dataset,epochs=500,verbose=0)"
   ]
  },
  {
   "cell_type": "code",
   "execution_count": 7,
   "metadata": {
    "colab": {
     "base_uri": "https://localhost:8080/",
     "height": 393
    },
    "id": "icGDaND7z0ne",
    "outputId": "58b69d1a-82d2-457b-9342-42ceb24b35da"
   },
   "outputs": [
    {
     "data": {
      "image/png": "[encoded data removed]",
      "text/plain": [
       "<Figure size 720x432 with 1 Axes>"
      ]
     },
     "metadata": {
      "needs_background": "light"
     },
     "output_type": "display_data"
    }
   ],
   "source": [
    "forecast = []\n",
    "results = []\n",
    "for time in range(len(series) - window_size):\n",
    "  forecast.append(model.predict(series[time:time + window_size][np.newaxis]))\n",
    "\n",
    "forecast = forecast[split_time-window_size:]\n",
    "results = np.array(forecast)[:, 0, 0]\n",
    "\n",
    "\n",
    "plt.figure(figsize=(10, 6))\n",
    "\n",
    "plot_series(time_valid, x_valid)\n",
    "plot_series(time_valid, results)"
   ]
  },
  {
   "cell_type": "code",
   "execution_count": null,
   "metadata": {
    "colab": {
     "base_uri": "https://localhost:8080/",
     "height": 35
    },
    "id": "KfPeqI7rz4LD",
    "outputId": "816335be-fd2a-428f-98d6-05983b84d9b5"
   },
   "outputs": [
    {
     "data": {
      "text/plain": [
       "8.514286"
      ]
     },
     "execution_count": 12,
     "metadata": {
      "tags": []
     },
     "output_type": "execute_result"
    }
   ],
   "source": [
    "tf.keras.metrics.mean_absolute_error(x_valid, results).numpy()"
   ]
  },
  {
   "cell_type": "code",
   "execution_count": null,
   "metadata": {
    "colab": {
     "base_uri": "https://localhost:8080/",
     "height": 235
    },
    "id": "JUsdZB_tzDLe",
    "outputId": "964c47d9-7eec-42cd-905f-c45c2fd31d9e"
   },
   "outputs": [
    {
     "ename": "KeyError",
     "evalue": "ignored",
     "output_type": "error",
     "traceback": [
      "\u001b[0;31m---------------------------------------------------------------------------\u001b[0m",
      "\u001b[0;31mKeyError\u001b[0m                                  Traceback (most recent call last)",
      "\u001b[0;32m<ipython-input-13-0d8269471fd6>\u001b[0m in \u001b[0;36m<module>\u001b[0;34m()\u001b[0m\n\u001b[1;32m      6\u001b[0m \u001b[0;31m# sets for each training epoch\u001b[0m\u001b[0;34m\u001b[0m\u001b[0;34m\u001b[0m\u001b[0;34m\u001b[0m\u001b[0m\n\u001b[1;32m      7\u001b[0m \u001b[0;31m#-----------------------------------------------------------\u001b[0m\u001b[0;34m\u001b[0m\u001b[0;34m\u001b[0m\u001b[0;34m\u001b[0m\u001b[0m\n\u001b[0;32m----> 8\u001b[0;31m \u001b[0mmae\u001b[0m\u001b[0;34m=\u001b[0m\u001b[0mhistory\u001b[0m\u001b[0;34m.\u001b[0m\u001b[0mhistory\u001b[0m\u001b[0;34m[\u001b[0m\u001b[0;34m'mae'\u001b[0m\u001b[0;34m]\u001b[0m\u001b[0;34m\u001b[0m\u001b[0;34m\u001b[0m\u001b[0m\n\u001b[0m\u001b[1;32m      9\u001b[0m \u001b[0mloss\u001b[0m\u001b[0;34m=\u001b[0m\u001b[0mhistory\u001b[0m\u001b[0;34m.\u001b[0m\u001b[0mhistory\u001b[0m\u001b[0;34m[\u001b[0m\u001b[0;34m'loss'\u001b[0m\u001b[0;34m]\u001b[0m\u001b[0;34m\u001b[0m\u001b[0;34m\u001b[0m\u001b[0m\n\u001b[1;32m     10\u001b[0m \u001b[0;34m\u001b[0m\u001b[0m\n",
      "\u001b[0;31mKeyError\u001b[0m: 'mae'"
     ]
    }
   ],
   "source": [
    "import matplotlib.image  as mpimg\n",
    "import matplotlib.pyplot as plt\n",
    "\n",
    "#-----------------------------------------------------------\n",
    "# Retrieve a list of list results on training and test data\n",
    "# sets for each training epoch\n",
    "#-----------------------------------------------------------\n",
    "mae=history.history['mae']\n",
    "loss=history.history['loss']\n",
    "\n",
    "epochs=range(len(loss)) # Get number of epochs\n",
    "\n",
    "#------------------------------------------------\n",
    "# Plot MAE and Loss\n",
    "#------------------------------------------------\n",
    "plt.plot(epochs, mae, 'r')\n",
    "plt.plot(epochs, loss, 'b')\n",
    "plt.title('MAE and Loss')\n",
    "plt.xlabel(\"Epochs\")\n",
    "plt.ylabel(\"Accuracy\")\n",
    "plt.legend([\"MAE\", \"Loss\"])\n",
    "\n",
    "plt.figure()\n",
    "\n",
    "epochs_zoom = epochs[200:]\n",
    "mae_zoom = mae[200:]\n",
    "loss_zoom = loss[200:]\n",
    "\n",
    "#------------------------------------------------\n",
    "# Plot Zoomed MAE and Loss\n",
    "#------------------------------------------------\n",
    "plt.plot(epochs_zoom, mae_zoom, 'r')\n",
    "plt.plot(epochs_zoom, loss_zoom, 'b')\n",
    "plt.title('MAE and Loss')\n",
    "plt.xlabel(\"Epochs\")\n",
    "plt.ylabel(\"Accuracy\")\n",
    "plt.legend([\"MAE\", \"Loss\"])\n",
    "\n",
    "plt.figure()"
   ]
  },
  {
   "cell_type": "code",
   "execution_count": null,
   "metadata": {
    "id": "3CGaYFxXNEAK"
   },
   "outputs": [],
   "source": [
    "tf.keras.backend.clear_session()\n",
    "dataset = windowed_dataset(x_train, window_size, batch_size, shuffle_buffer_size)\n",
    "\n",
    "model = tf.keras.models.Sequential([\n",
    "  tf.keras.layers.Lambda(lambda x: tf.expand_dims(x, axis=-1),\n",
    "                      input_shape=[None]),\n",
    "  tf.keras.layers.Bidirectional(tf.keras.layers.LSTM(32, return_sequences=True)),\n",
    "  tf.keras.layers.Bidirectional(tf.keras.layers.LSTM(32)),\n",
    "  tf.keras.layers.Dense(1),\n",
    "  tf.keras.layers.Lambda(lambda x: x * 100.0)\n",
    "])\n",
    "\n",
    "\n",
    "model.compile(loss=\"mse\", optimizer=tf.keras.optimizers.SGD(lr=1e-6, momentum=0.9))\n",
    "model.fit(dataset,epochs=100, verbose=0)"
   ]
  },
  {
   "cell_type": "code",
   "execution_count": null,
   "metadata": {
    "id": "FJ3R8ysauz9e"
   },
   "outputs": [],
   "source": [
    "tf.keras.backend.clear_session()\n",
    "dataset = windowed_dataset(x_train, window_size, batch_size, shuffle_buffer_size)\n",
    "\n",
    "model = tf.keras.models.Sequential([\n",
    "  tf.keras.layers.Lambda(lambda x: tf.expand_dims(x, axis=-1),\n",
    "                      input_shape=[None]),\n",
    "  tf.keras.layers.Bidirectional(tf.keras.layers.LSTM(32, return_sequences=True)),\n",
    "  tf.keras.layers.Bidirectional(tf.keras.layers.LSTM(32, return_sequences=True)),\n",
    "  tf.keras.layers.Bidirectional(tf.keras.layers.LSTM(32)),\n",
    "  tf.keras.layers.Dense(1),\n",
    "  tf.keras.layers.Lambda(lambda x: x * 100.0)\n",
    "])\n",
    "\n",
    "\n",
    "model.compile(loss=\"mse\", optimizer=tf.keras.optimizers.SGD(lr=1e-6, momentum=0.9))\n",
    "model.fit(dataset,epochs=100)"
   ]
  }
 ],
 "metadata": {
  "colab": {
   "collapsed_sections": [],
   "name": "S+P Week 3 Lesson 4 - LSTM.ipynb",
   "provenance": [],
   "toc_visible": true
  },
  "kernelspec": {
   "display_name": "Python 3",
   "language": "python",
   "name": "python3"
  },
  "language_info": {
   "codemirror_mode": {
    "name": "ipython",
    "version": 3
   },
   "file_extension": ".py",
   "mimetype": "text/x-python",
   "name": "python",
   "nbconvert_exporter": "python",
   "pygments_lexer": "ipython3",
   "version": "3.7.8"
  }
 },
 "nbformat": 4,
 "nbformat_minor": 1
}
