{
 "cells": [
  {
   "cell_type": "code",
   "execution_count": 1,
   "metadata": {
    "id": "zX4Kg8DUTKWO"
   },
   "outputs": [],
   "source": [
    "#@title Licensed under the Apache License, Version 2.0 (the \"License\");\n",
    "# you may not use this file except in compliance with the License.\n",
    "# You may obtain a copy of the License at\n",
    "#\n",
    "# https://www.apache.org/licenses/LICENSE-2.0\n",
    "#\n",
    "# Unless required by applicable law or agreed to in writing, software\n",
    "# distributed under the License is distributed on an \"AS IS\" BASIS,\n",
    "# WITHOUT WARRANTIES OR CONDITIONS OF ANY KIND, either express or implied.\n",
    "# See the License for the specific language governing permissions and\n",
    "# limitations under the License."
   ]
  },
  {
   "cell_type": "markdown",
   "metadata": {
    "id": "view-in-github"
   },
   "source": [
    "<a href=\"https://colab.research.google.com/github/lmoroney/dlaicourse/blob/master/TensorFlow%20In%20Practice/Course%204%20-%20S%2BP/S%2BP%20Week%202%20Lesson%202.ipynb\" target=\"_parent\"><img src=\"https://colab.research.google.com/assets/colab-badge.svg\" alt=\"Open In Colab\"/></a>"
   ]
  },
  {
   "cell_type": "code",
   "execution_count": 2,
   "metadata": {
    "id": "-pwam8szRReT"
   },
   "outputs": [],
   "source": [
    "try:\n",
    "  # %tensorflow_version only exists in Colab.\n",
    "  %tensorflow_version 2.x\n",
    "except Exception:\n",
    "  pass"
   ]
  },
  {
   "cell_type": "code",
   "execution_count": 3,
   "metadata": {
    "id": "BOjujz601HcS"
   },
   "outputs": [
    {
     "name": "stdout",
     "output_type": "stream",
     "text": [
      "2.4.0-dev20200925\n"
     ]
    }
   ],
   "source": [
    "import tensorflow as tf\n",
    "import numpy as np\n",
    "import matplotlib.pyplot as plt\n",
    "print(tf.__version__)"
   ]
  },
  {
   "cell_type": "code",
   "execution_count": 4,
   "metadata": {
    "id": "Zswl7jRtGzkk"
   },
   "outputs": [],
   "source": [
    "def plot_series(time, series, format=\"-\", start=0, end=None):\n",
    "    plt.plot(time[start:end], series[start:end], format)\n",
    "    plt.xlabel(\"Time\")\n",
    "    plt.ylabel(\"Value\")\n",
    "    plt.grid(True)\n",
    "\n",
    "def trend(time, slope=0):\n",
    "    return slope * time\n",
    "\n",
    "def seasonal_pattern(season_time):\n",
    "    \"\"\"Just an arbitrary pattern, you can change it if you wish\"\"\"\n",
    "    return np.where(season_time < 0.4,\n",
    "                    np.cos(season_time * 2 * np.pi),\n",
    "                    1 / np.exp(3 * season_time))\n",
    "\n",
    "def seasonality(time, period, amplitude=1, phase=0):\n",
    "    \"\"\"Repeats the same pattern at each period\"\"\"\n",
    "    season_time = ((time + phase) % period) / period\n",
    "    return amplitude * seasonal_pattern(season_time)\n",
    "\n",
    "def noise(time, noise_level=1, seed=None):\n",
    "    rnd = np.random.RandomState(seed)\n",
    "    return rnd.randn(len(time)) * noise_level\n",
    "\n",
    "time = np.arange(4 * 365 + 1, dtype=\"float32\")\n",
    "baseline = 10\n",
    "series = trend(time, 0.1)  \n",
    "baseline = 10\n",
    "amplitude = 40\n",
    "slope = 0.05\n",
    "noise_level = 5\n",
    "\n",
    "# Create the series\n",
    "series = baseline + trend(time, slope) + seasonality(time, period=365, amplitude=amplitude)\n",
    "# Update with noise\n",
    "series += noise(time, noise_level, seed=42)\n",
    "\n",
    "split_time = 1000\n",
    "time_train = time[:split_time]\n",
    "x_train = series[:split_time]\n",
    "time_valid = time[split_time:]\n",
    "x_valid = series[split_time:]\n",
    "\n",
    "window_size = 20\n",
    "batch_size = 32\n",
    "shuffle_buffer_size = 1000"
   ]
  },
  {
   "cell_type": "code",
   "execution_count": 5,
   "metadata": {
    "id": "4sTTIOCbyShY"
   },
   "outputs": [],
   "source": [
    "# def windowed_dataset(series, window_size, batch_size, shuffle_buffer):\n",
    "#   dataset = tf.data.Dataset.from_tensor_slices(series)\n",
    "#   dataset = dataset.window(window_size + 1, shift=1, drop_remainder=True)\n",
    "#   dataset = dataset.flat_map(lambda window: window.batch(window_size + 1))\n",
    "#   dataset = dataset.shuffle(shuffle_buffer).map(lambda window: (window[:-1], window[-1]))\n",
    "#   dataset = dataset.batch(batch_size).prefetch(1)\n",
    "#   return dataset\n",
    "\n",
    "def windowed_dataset(series,window_size,batch_size,shuffle_buffer):\n",
    "    dataset = tf.data.Dataset.from_tensor_slices(series)\n",
    "    dataset = dataset.window(window_size+1,shift=1,drop_remainder=True)\n",
    "    dataset = dataset.flat_map(lambda window: window.batch(window_size+1))\n",
    "    dataset = dataset.shuffle(shuffle_buffer).map(lambda window: (window[:-1],window[-1:]))\n",
    "    dataset = dataset.batch(batch_size).prefetch(1)\n",
    "    return dataset"
   ]
  },
  {
   "cell_type": "code",
   "execution_count": 8,
   "metadata": {
    "id": "ou-WmE2AXu6B"
   },
   "outputs": [
    {
     "name": "stdout",
     "output_type": "stream",
     "text": [
      "<PrefetchDataset shapes: ((None, None), (None, None)), types: (tf.float32, tf.float32)>\n",
      "Epoch 1/100\n",
      "31/31 [==============================] - 0s 2ms/step - loss: 267.7065\n",
      "Epoch 2/100\n",
      "31/31 [==============================] - 0s 1ms/step - loss: 193.9942\n",
      "Epoch 3/100\n",
      "31/31 [==============================] - 0s 2ms/step - loss: 173.7141\n",
      "Epoch 4/100\n",
      "31/31 [==============================] - 0s 2ms/step - loss: 131.6893\n",
      "Epoch 5/100\n",
      "31/31 [==============================] - 0s 1ms/step - loss: 104.5278\n",
      "Epoch 6/100\n",
      "31/31 [==============================] - 0s 1ms/step - loss: 105.4485\n",
      "Epoch 7/100\n",
      "31/31 [==============================] - 0s 1ms/step - loss: 91.8196\n",
      "Epoch 8/100\n",
      "31/31 [==============================] - 0s 1ms/step - loss: 91.1866\n",
      "Epoch 9/100\n",
      "31/31 [==============================] - 0s 1ms/step - loss: 85.6312\n",
      "Epoch 10/100\n",
      "31/31 [==============================] - 0s 1ms/step - loss: 81.1469\n",
      "Epoch 11/100\n",
      "31/31 [==============================] - 0s 1ms/step - loss: 86.7448\n",
      "Epoch 12/100\n",
      "31/31 [==============================] - 0s 1ms/step - loss: 79.9623\n",
      "Epoch 13/100\n",
      "31/31 [==============================] - 0s 965us/step - loss: 72.8491\n",
      "Epoch 14/100\n",
      "31/31 [==============================] - 0s 1ms/step - loss: 82.5705\n",
      "Epoch 15/100\n",
      "31/31 [==============================] - 0s 1ms/step - loss: 72.2204\n",
      "Epoch 16/100\n",
      "31/31 [==============================] - 0s 2ms/step - loss: 73.9908\n",
      "Epoch 17/100\n",
      "31/31 [==============================] - 0s 867us/step - loss: 75.0028\n",
      "Epoch 18/100\n",
      "31/31 [==============================] - 0s 935us/step - loss: 73.5631\n",
      "Epoch 19/100\n",
      "31/31 [==============================] - 0s 1ms/step - loss: 70.7277\n",
      "Epoch 20/100\n",
      "31/31 [==============================] - 0s 1ms/step - loss: 77.2140\n",
      "Epoch 21/100\n",
      "31/31 [==============================] - 0s 1ms/step - loss: 63.6747\n",
      "Epoch 22/100\n",
      "31/31 [==============================] - 0s 1ms/step - loss: 73.3184\n",
      "Epoch 23/100\n",
      "31/31 [==============================] - 0s 1ms/step - loss: 65.1170\n",
      "Epoch 24/100\n",
      "31/31 [==============================] - 0s 1ms/step - loss: 64.1686\n",
      "Epoch 25/100\n",
      "31/31 [==============================] - 0s 1ms/step - loss: 66.3062\n",
      "Epoch 26/100\n",
      "31/31 [==============================] - 0s 1ms/step - loss: 67.0583\n",
      "Epoch 27/100\n",
      "31/31 [==============================] - 0s 1ms/step - loss: 62.7714\n",
      "Epoch 28/100\n",
      "31/31 [==============================] - 0s 1ms/step - loss: 66.2164\n",
      "Epoch 29/100\n",
      "31/31 [==============================] - 0s 1ms/step - loss: 58.5075\n",
      "Epoch 30/100\n",
      "31/31 [==============================] - 0s 1ms/step - loss: 57.9994\n",
      "Epoch 31/100\n",
      "31/31 [==============================] - 0s 901us/step - loss: 59.6809\n",
      "Epoch 32/100\n",
      "31/31 [==============================] - 0s 1ms/step - loss: 60.4593\n",
      "Epoch 33/100\n",
      "31/31 [==============================] - 0s 1ms/step - loss: 64.8481\n",
      "Epoch 34/100\n",
      "31/31 [==============================] - 0s 1ms/step - loss: 56.4642\n",
      "Epoch 35/100\n",
      "31/31 [==============================] - 0s 1000us/step - loss: 53.1973\n",
      "Epoch 36/100\n",
      "31/31 [==============================] - 0s 1ms/step - loss: 61.1243\n",
      "Epoch 37/100\n",
      "31/31 [==============================] - 0s 1ms/step - loss: 59.1784\n",
      "Epoch 38/100\n",
      "31/31 [==============================] - ETA: 2s - loss: 38.53 - 0s 1ms/step - loss: 55.3323\n",
      "Epoch 39/100\n",
      "31/31 [==============================] - 0s 1ms/step - loss: 54.8418\n",
      "Epoch 40/100\n",
      "31/31 [==============================] - 0s 1ms/step - loss: 59.6282\n",
      "Epoch 41/100\n",
      "31/31 [==============================] - 0s 933us/step - loss: 55.3911\n",
      "Epoch 42/100\n",
      "31/31 [==============================] - 0s 1ms/step - loss: 65.7977\n",
      "Epoch 43/100\n",
      "31/31 [==============================] - 0s 1ms/step - loss: 54.0665\n",
      "Epoch 44/100\n",
      "31/31 [==============================] - 0s 1ms/step - loss: 55.9887\n",
      "Epoch 45/100\n",
      "31/31 [==============================] - 0s 1ms/step - loss: 64.7567\n",
      "Epoch 46/100\n",
      "31/31 [==============================] - 0s 1ms/step - loss: 55.5186\n",
      "Epoch 47/100\n",
      "31/31 [==============================] - 0s 1ms/step - loss: 45.8428\n",
      "Epoch 48/100\n",
      "31/31 [==============================] - 0s 1ms/step - loss: 57.9932\n",
      "Epoch 49/100\n",
      "31/31 [==============================] - 0s 934us/step - loss: 50.8258\n",
      "Epoch 50/100\n",
      "31/31 [==============================] - 0s 1ms/step - loss: 50.7413\n",
      "Epoch 51/100\n",
      "31/31 [==============================] - 0s 1ms/step - loss: 60.1313\n",
      "Epoch 52/100\n",
      "31/31 [==============================] - 0s 1ms/step - loss: 48.5045\n",
      "Epoch 53/100\n",
      "31/31 [==============================] - 0s 1ms/step - loss: 48.8683\n",
      "Epoch 54/100\n",
      "31/31 [==============================] - 0s 1ms/step - loss: 50.9919\n",
      "Epoch 55/100\n",
      "31/31 [==============================] - 0s 1ms/step - loss: 55.0236\n",
      "Epoch 56/100\n",
      "31/31 [==============================] - 0s 1ms/step - loss: 45.0824\n",
      "Epoch 57/100\n",
      "31/31 [==============================] - 0s 1ms/step - loss: 49.6497\n",
      "Epoch 58/100\n",
      "31/31 [==============================] - 0s 1ms/step - loss: 48.8590\n",
      "Epoch 59/100\n",
      "31/31 [==============================] - 0s 1ms/step - loss: 46.8488\n",
      "Epoch 60/100\n",
      "31/31 [==============================] - 0s 1ms/step - loss: 48.0280\n",
      "Epoch 61/100\n",
      "31/31 [==============================] - 0s 1ms/step - loss: 46.5573\n",
      "Epoch 62/100\n",
      "31/31 [==============================] - 0s 1ms/step - loss: 50.0767\n",
      "Epoch 63/100\n",
      "31/31 [==============================] - 0s 1ms/step - loss: 49.5076\n",
      "Epoch 64/100\n",
      "31/31 [==============================] - 0s 868us/step - loss: 50.5642\n",
      "Epoch 65/100\n",
      "31/31 [==============================] - 0s 1ms/step - loss: 50.8214\n",
      "Epoch 66/100\n",
      "31/31 [==============================] - 0s 1ms/step - loss: 46.8828\n",
      "Epoch 67/100\n",
      "31/31 [==============================] - 0s 1ms/step - loss: 47.6894\n",
      "Epoch 68/100\n",
      "31/31 [==============================] - 0s 1ms/step - loss: 47.9940\n",
      "Epoch 69/100\n",
      "31/31 [==============================] - 0s 833us/step - loss: 51.0044\n",
      "Epoch 70/100\n",
      "31/31 [==============================] - 0s 800us/step - loss: 41.6364\n",
      "Epoch 71/100\n",
      "31/31 [==============================] - 0s 1ms/step - loss: 47.5171\n",
      "Epoch 72/100\n",
      "31/31 [==============================] - 0s 1000us/step - loss: 40.2111\n",
      "Epoch 73/100\n",
      "31/31 [==============================] - 0s 1ms/step - loss: 43.3881\n",
      "Epoch 74/100\n",
      "31/31 [==============================] - 0s 1ms/step - loss: 50.8529\n",
      "Epoch 75/100\n",
      "31/31 [==============================] - 0s 1ms/step - loss: 50.7256\n",
      "Epoch 76/100\n",
      "31/31 [==============================] - 0s 1ms/step - loss: 48.3931\n",
      "Epoch 77/100\n",
      "31/31 [==============================] - 0s 1ms/step - loss: 47.8484\n",
      "Epoch 78/100\n",
      "31/31 [==============================] - 0s 1ms/step - loss: 49.5069\n",
      "Epoch 79/100\n",
      "31/31 [==============================] - 0s 1ms/step - loss: 44.7753\n",
      "Epoch 80/100\n",
      "31/31 [==============================] - 0s 989us/step - loss: 47.3247\n",
      "Epoch 81/100\n",
      "31/31 [==============================] - 0s 1ms/step - loss: 41.3934\n",
      "Epoch 82/100\n",
      "31/31 [==============================] - 0s 1ms/step - loss: 52.0193\n",
      "Epoch 83/100\n",
      "31/31 [==============================] - 0s 1ms/step - loss: 47.9659\n",
      "Epoch 84/100\n",
      "31/31 [==============================] - 0s 1ms/step - loss: 46.4653\n",
      "Epoch 85/100\n",
      "31/31 [==============================] - 0s 2ms/step - loss: 51.9198\n",
      "Epoch 86/100\n",
      "31/31 [==============================] - 0s 1ms/step - loss: 44.1932\n",
      "Epoch 87/100\n",
      "31/31 [==============================] - 0s 1ms/step - loss: 45.0563\n",
      "Epoch 88/100\n",
      "31/31 [==============================] - 0s 867us/step - loss: 44.5800\n",
      "Epoch 89/100\n",
      "31/31 [==============================] - 0s 923us/step - loss: 46.8746\n",
      "Epoch 90/100\n",
      "31/31 [==============================] - 0s 1ms/step - loss: 47.6111\n",
      "Epoch 91/100\n",
      "31/31 [==============================] - 0s 1ms/step - loss: 42.4341\n",
      "Epoch 92/100\n",
      "31/31 [==============================] - 0s 1ms/step - loss: 46.5559\n",
      "Epoch 93/100\n",
      "31/31 [==============================] - 0s 1ms/step - loss: 41.0566\n",
      "Epoch 94/100\n",
      "31/31 [==============================] - 0s 1ms/step - loss: 43.6989\n",
      "Epoch 95/100\n",
      "31/31 [==============================] - 0s 1ms/step - loss: 44.3131\n",
      "Epoch 96/100\n",
      "31/31 [==============================] - 0s 833us/step - loss: 46.8264\n",
      "Epoch 97/100\n",
      "31/31 [==============================] - 0s 1ms/step - loss: 45.7010\n",
      "Epoch 98/100\n",
      "31/31 [==============================] - 0s 1ms/step - loss: 43.7132\n",
      "Epoch 99/100\n"
     ]
    },
    {
     "name": "stdout",
     "output_type": "stream",
     "text": [
      "31/31 [==============================] - 0s 1ms/step - loss: 46.0427\n",
      "Epoch 100/100\n",
      "31/31 [==============================] - 0s 1ms/step - loss: 43.2383\n",
      "layers weight [array([[-0.03076608],\n",
      "       [ 0.04116639],\n",
      "       [ 0.02806324],\n",
      "       [-0.1035791 ],\n",
      "       [ 0.05506984],\n",
      "       [-0.02228801],\n",
      "       [ 0.05229325],\n",
      "       [ 0.03836231],\n",
      "       [-0.13275702],\n",
      "       [ 0.05505683],\n",
      "       [ 0.07251222],\n",
      "       [ 0.01630969],\n",
      "       [-0.10603171],\n",
      "       [ 0.00459641],\n",
      "       [-0.00331018],\n",
      "       [ 0.13458923],\n",
      "       [ 0.01331654],\n",
      "       [ 0.19743559],\n",
      "       [ 0.1947854 ],\n",
      "       [ 0.48787364]], dtype=float32), array([0.01304608], dtype=float32)]\n"
     ]
    }
   ],
   "source": [
    "# dataset = windowed_dataset(x_train, window_size, batch_size, shuffle_buffer_size)\n",
    "# print(dataset)\n",
    "# l0 = tf.keras.layers.Dense(1, input_shape=[window_size])\n",
    "# model = tf.keras.models.Sequential([l0])\n",
    "\n",
    "\n",
    "# model.compile(loss=\"mse\", optimizer=tf.keras.optimizers.SGD(lr=1e-6, momentum=0.9))\n",
    "# model.fit(dataset,epochs=100,verbose=0)\n",
    "\n",
    "# print(\"Layer weights {}\".format(l0.get_weights()))\n",
    "\n",
    "dataset = windowed_dataset(x_train,window_size,batch_size,shuffle_buffer_size)\n",
    "print(dataset)\n",
    "l0 = tf.keras.layers.Dense(1,input_shape=[window_size])\n",
    "model = tf.keras.models.Sequential([l0])\n",
    "\n",
    "model.compile(loss = 'mse',optimizer=tf.keras.optimizers.SGD(lr=1e-6,momentum=0.9))\n",
    "model.fit(dataset,epochs=100,verbose=1)\n",
    "print(\"layers weight {}\".format(l0.get_weights()))\n"
   ]
  },
  {
   "cell_type": "code",
   "execution_count": 17,
   "metadata": {
    "id": "-gtVJuLVxR-M"
   },
   "outputs": [
    {
     "data": {
      "image/png": "[encoded data removed]",
      "text/plain": [
       "<Figure size 720x432 with 1 Axes>"
      ]
     },
     "metadata": {
      "needs_background": "light"
     },
     "output_type": "display_data"
    }
   ],
   "source": [
    "from IPython.core.debugger import set_trace\n",
    "forecast = []\n",
    "\n",
    "for time in range(len(series) - window_size):\n",
    "  forecast.append(model.predict(series[time:time + window_size][np.newaxis]))\n",
    "forecast = forecast[split_time-window_size:]\n",
    "results = np.array(forecast)[:, 0, 0]\n",
    "\n",
    "plt.figure(figsize=(10, 6))\n",
    "\n",
    "plot_series(time_valid, x_valid)\n",
    "plot_series(time_valid, results)\n"
   ]
  },
  {
   "cell_type": "code",
   "execution_count": 24,
   "metadata": {},
   "outputs": [
    {
     "name": "stdout",
     "output_type": "stream",
     "text": [
      "(461, 1, 1)\n",
      "(461,)\n",
      "[[66.00796]]\n",
      "66.00796\n"
     ]
    }
   ],
   "source": [
    "forecasts = np.array(forecast)\n",
    "print(forecasts.shape)\n",
    "print(results.shape)\n",
    "print(forecasts[0])\n",
    "print(results[0])"
   ]
  },
  {
   "cell_type": "code",
   "execution_count": 25,
   "metadata": {
    "id": "hR2BO0Dai_ZT"
   },
   "outputs": [
    {
     "data": {
      "text/plain": [
       "5.0544605"
      ]
     },
     "execution_count": 25,
     "metadata": {},
     "output_type": "execute_result"
    }
   ],
   "source": [
    "tf.keras.metrics.mean_absolute_error(x_valid, results).numpy()"
   ]
  }
 ],
 "metadata": {
  "colab": {
   "name": "S+P Week 2 Lesson 2.ipynb",
   "provenance": [],
   "toc_visible": true
  },
  "kernelspec": {
   "display_name": "Python 3",
   "language": "python",
   "name": "python3"
  },
  "language_info": {
   "codemirror_mode": {
    "name": "ipython",
    "version": 3
   },
   "file_extension": ".py",
   "mimetype": "text/x-python",
   "name": "python",
   "nbconvert_exporter": "python",
   "pygments_lexer": "ipython3",
   "version": "3.7.8"
  }
 },
 "nbformat": 4,
 "nbformat_minor": 1
}
